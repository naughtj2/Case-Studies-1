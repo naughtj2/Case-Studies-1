{
 "cells": [
  {
   "cell_type": "code",
   "execution_count": 6,
   "id": "8684acd7",
   "metadata": {},
   "outputs": [],
   "source": [
    "import numpy as np"
   ]
  },
  {
   "cell_type": "code",
   "execution_count": 5,
   "id": "827d0e9c",
   "metadata": {
    "scrolled": true
   },
   "outputs": [
    {
     "name": "stdout",
     "output_type": "stream",
     "text": [
      "Q.T @ Q :\n",
      " [[ 1.  0. -0.  0.]\n",
      " [ 0.  1. -0.  0.]\n",
      " [-0. -0.  1.  0.]\n",
      " [ 0.  0.  0.  1.]]\n",
      "R \n",
      " [[2.02542 1.8603  1.79842 1.97237]\n",
      " [0.      1.75832 0.23106 0.634  ]\n",
      " [0.      0.      1.63625 0.57125]\n",
      " [0.      0.      0.      1.30658]]\n"
     ]
    }
   ],
   "source": [
    "def tsqr(W):\n",
    "    \n",
    "    # Divide matrix into 4 row blocks\n",
    "    m, n = W.shape\n",
    "    num_blocks = 4\n",
    "    block_size = m // num_blocks\n",
    "    W_blocks = [W[i * block_size: (i + 1) * block_size, :] for i in range(num_blocks)]\n",
    "    \n",
    "    # Perform local QR on each block\n",
    "    Q_blocks = []\n",
    "    R_blocks = []\n",
    "    for W_block in W_blocks:\n",
    "        Q, R = np.linalg.qr(W_block)\n",
    "        Q_blocks.append(Q)\n",
    "        R_blocks.append(R)\n",
    "    \n",
    "    # Stack the R factors and compute a second-level QR\n",
    "    R_stacked = np.vstack(R_blocks)\n",
    "    Q_final, R_final = np.linalg.qr(R_stacked)\n",
    "    \n",
    "    # Compute final Q by multiplying block Qs with Q_final\n",
    "    Q_combined = np.vstack([Q_blocks[i] @ Q_final[i*n:(i+1)*n, :] for i in range(num_blocks)])\n",
    "    \n",
    "    return Q_combined, R_final\n",
    "\n",
    "# Test usage\n",
    "m, n = 16, 4  \n",
    "W = np.random.rand(m, n)\n",
    "\n",
    "Q, R = tsqr(W)\n",
    "\n",
    "# Verify that Q is orthogonal and R is upper triangular\n",
    "print(\"Q.T @ Q :\\n\", np.round(Q.T @ Q, 5))\n",
    "print(\"R \\n\", np.round(R, 5))\n"
   ]
  }
 ],
 "metadata": {
  "kernelspec": {
   "display_name": "Python 3 (ipykernel)",
   "language": "python",
   "name": "python3"
  },
  "language_info": {
   "codemirror_mode": {
    "name": "ipython",
    "version": 3
   },
   "file_extension": ".py",
   "mimetype": "text/x-python",
   "name": "python",
   "nbconvert_exporter": "python",
   "pygments_lexer": "ipython3",
   "version": "3.11.5"
  }
 },
 "nbformat": 4,
 "nbformat_minor": 5
}
